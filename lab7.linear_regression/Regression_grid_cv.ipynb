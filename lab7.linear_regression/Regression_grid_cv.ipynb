{
 "cells": [
  {
   "cell_type": "markdown",
   "id": "6706f670",
   "metadata": {},
   "source": [
    "\n",
    "# ЛАБОРАТОРНА РОБОТА  \n",
    "\n",
    "## \"Лінійні та нелінійні регресійні моделі МН\"\n",
    "\n",
    "__Метою__ лабораторної роботи є набуття практичних навичок використання модулів бібліотеки `Scikit-learn` для вирішення наступних задач:\n",
    "\n",
    "- визначення суттєвих показчиків для регресійної моделі\n",
    "- пошук та настроювання гіперпараметрів лінійних та нелінійних регресійних моделей\n",
    "\n",
    "__Результатом__ виконання лабораторної роботи є серія моделей які прогнозують ціну кватрир на вторинному ринку житла"
   ]
  },
  {
   "cell_type": "code",
   "execution_count": null,
   "id": "bdfb6875",
   "metadata": {},
   "outputs": [],
   "source": [
    "import pandas as pd\n",
    "import numpy as np\n",
    "\n",
    "data = pd.read_csv('apartment_transformed.csv')\n",
    "data.shape"
   ]
  },
  {
   "cell_type": "code",
   "execution_count": null,
   "id": "3d17c75b",
   "metadata": {},
   "outputs": [],
   "source": [
    "# відокремити ціловий показчик 'price'\n",
    "price = data.target\n",
    "\n",
    "# зилишити в 'data' тільки незалежні показчики\n",
    "data = ...\n",
    "\n",
    "data.shape, price.shape    # ((676, 301), (676,))"
   ]
  },
  {
   "cell_type": "markdown",
   "id": "4b391a2e",
   "metadata": {},
   "source": [
    "## 1. Пошук значущих ознак"
   ]
  },
  {
   "cell_type": "markdown",
   "id": "27e655c1",
   "metadata": {},
   "source": [
    "### Теоретичне введення"
   ]
  },
  {
   "cell_type": "markdown",
   "id": "83fe0105",
   "metadata": {},
   "source": [
    "__Значущі (суттеві) ознаки__ це дані, які мають сильну кореляцію або вплив на результат або прогноз моделі.\n",
    "\n",
    "Ці позазчики визначаються за допомогою процесу, який називається __відбором ознак__ ([Feature selection](https://en.wikipedia.org/wiki/Feature_selection)), який передбачає _оцінку_ та _ранжування важливості_ різних змінних у наборі даних. Це можна зробити за дпомогою статистичних тестів, кореляційного аналізу або алгоритмів машинного навчання.\n",
    "\n",
    "Після визначення значущих ознак їх можна використовувати для навчання моделі машинного навчання.\n",
    "\n",
    "Це може бути особливо важливим у моделях, де дані складні та містять багато змінних. Тому ідентифікація  суттєвих ознак може допомогти зменшити розмірність даних і покращити продуктивність моделі.\n",
    "\n",
    "Класи в модулі [sklearn.feature_selection](https://scikit-learn.org/stable/modules/feature_selection.html) можна використовувати для вибору функцій/зменшення розмірності на вибіркових наборах або для покращення показників точності оцінювачів, або для підвищення їх продуктивності на масивах даних з дуже великою розмірністю."
   ]
  },
  {
   "cell_type": "markdown",
   "id": "ce8a207f",
   "metadata": {},
   "source": [
    "### Завдання\n",
    "\n",
    "Відібрати з вхідного набору `data` 7 найбільш суттєвих показчиків для регрісійної моделі машинного навчання."
   ]
  },
  {
   "cell_type": "code",
   "execution_count": null,
   "id": "3da76799",
   "metadata": {},
   "outputs": [],
   "source": [
    "# імпортувати з модуля 'feature_selection' селектор ознак 'SelectKBest' \n",
    "# та регрісійний тест 'f_regression'\n",
    "from sklearn.feature_selection import SelectKBest, f_regression"
   ]
  },
  {
   "cell_type": "code",
   "execution_count": null,
   "id": "443396fe",
   "metadata": {
    "scrolled": true
   },
   "outputs": [],
   "source": [
    "# побудувати селектор 7 ознак на f-регресорі\n",
    "kbest_selector = SelectKBest(...)\n",
    "\n",
    "# застосувати селектор для побудови списку ознак\n",
    "data_selected = ..."
   ]
  },
  {
   "cell_type": "code",
   "execution_count": null,
   "id": "74635da9",
   "metadata": {},
   "outputs": [],
   "source": [
    "# зберегти імена визначених селектором найбільш суттєвих ознак\n",
    "best_features = kbest_selector.get_feature_names_out()"
   ]
  },
  {
   "cell_type": "code",
   "execution_count": null,
   "id": "c8761bcd",
   "metadata": {},
   "outputs": [],
   "source": [
    "# побудувати датафрейм на визначених ознаках\n",
    "data = pd.DataFrame(data=..., columns=...)\n",
    "data.head()"
   ]
  },
  {
   "cell_type": "markdown",
   "id": "949c8685",
   "metadata": {},
   "source": [
    "### Висновки\n",
    "\n",
    "_описати загальну статистичну характеристику отриманого датасети та зробити висновки щодо можливості його використання для подальшого аналізу_\n",
    "\n",
    "..."
   ]
  },
  {
   "cell_type": "markdown",
   "id": "4ce163fc",
   "metadata": {},
   "source": [
    "## 2. Множинна лінійна регресія"
   ]
  },
  {
   "cell_type": "markdown",
   "id": "6c4205a3",
   "metadata": {},
   "source": [
    "### Теоретичне введення"
   ]
  },
  {
   "cell_type": "markdown",
   "id": "24b4dc56",
   "metadata": {},
   "source": [
    "__Множинна лінійна регресія__ — це статистичний метод, який використовується для встановлення зв’язку між _залежною_ (цільвою) змінною $\\textbf y$ та _кількома_ незалежними змінними $\\textbf [X]$.  \n",
    "\n",
    "__Метою__ множинної лінійної регресії є знаходження найкращого лінійного зв’язку між залежною змінною та незалежними змінними, який виражається у вигляді рівняння:\n",
    "$$y = b_0 + b_1 x_1 + b_2 x_2 + ... + b_n x_n$$\n",
    "\n",
    "Найкращій зв'язок забезпечується знаходженням таких коєфіцієнтів $[B]$, що додають мінімум обраній метриці (MSE, MAE, ...)"
   ]
  },
  {
   "cell_type": "markdown",
   "id": "bb6eda7e",
   "metadata": {},
   "source": [
    "### Завдання\n",
    "\n",
    "\n",
    "Порахувати показчики якості моделі [лінйной множинної регресії](https://uk.mcfairbanks.com/719-multiple-regression-formula) на визначениx п.1 значущих ознаках датасету застосувавши [кросс-валідацію з __10__ сплітами](https://scikit-learn.org/stable/modules/cross_validation.html)."
   ]
  },
  {
   "cell_type": "code",
   "execution_count": null,
   "id": "7ff83f4d",
   "metadata": {},
   "outputs": [],
   "source": [
    "# імпортувати та побудувати лінійний регресор з параметрами за замовчанням\n",
    "from sklearn.linear_model import ...\n",
    "lr = ..."
   ]
  },
  {
   "cell_type": "code",
   "execution_count": null,
   "id": "5bef1de0",
   "metadata": {},
   "outputs": [],
   "source": [
    "# імпортувати крос-валідатор 'cross_validate' з модуля 'model_selection'\n",
    "..."
   ]
  },
  {
   "cell_type": "code",
   "execution_count": null,
   "id": "d24b7e36",
   "metadata": {},
   "outputs": [],
   "source": [
    "# отримати результати крос-валідації по параметрам 'neg_mean_absolute_percentage_error' \n",
    "# та 'r2' на 10 сплітах передбачивши розрахунок на навчальному наборі 'return_train_score'\n",
    "cv_results_mul = cross_validate(...)"
   ]
  },
  {
   "cell_type": "markdown",
   "id": "0b944d08",
   "metadata": {},
   "source": [
    "#### занести результати в датафрейм 'cv_results_mul ' наступного вигляду:\n",
    "\n",
    "------------\n",
    "\n",
    "|помилка тесту в %   |коєф. R2 тесту  | помилка навчання в %  | коєф. R2 навчання  |\n",
    "| :------------:|:------------:|:------------:|:------------:|\n",
    "|  xx.xx | xx.xx  | xx.xx  | xx.xx  |\n",
    "|  xx.xx | xx.xx  | xx.xx  | xx.xx  |\n",
    "|  ... | ...  | ...  | ...  |\n"
   ]
  },
  {
   "cell_type": "code",
   "execution_count": null,
   "id": "f11ec7b5",
   "metadata": {
    "scrolled": true
   },
   "outputs": [],
   "source": [
    "cv_results_mul = ...\n",
    "cv_results_mul.head()"
   ]
  },
  {
   "cell_type": "code",
   "execution_count": null,
   "id": "de859c53",
   "metadata": {},
   "outputs": [],
   "source": [
    "# продовжити наступні команди виводу:\n",
    "print (\"середня помилка навчання = \" ...)\n",
    "print (\"середня помилка тесту = \" ...)"
   ]
  },
  {
   "cell_type": "markdown",
   "id": "63800fff",
   "metadata": {},
   "source": [
    "### Висновки\n",
    "\n",
    "_зпираючись на отримані метрики якості зробити висновок про придатність моделі, недонавчана чи перенавчана вона і т.п._"
   ]
  },
  {
   "cell_type": "markdown",
   "id": "b034005f",
   "metadata": {},
   "source": [
    "## 3. Гребнева (Ridge) регресія"
   ]
  },
  {
   "cell_type": "markdown",
   "id": "206d4b9b",
   "metadata": {
    "heading_collapsed": true
   },
   "source": [
    "### Теоретичне введення"
   ]
  },
  {
   "cell_type": "markdown",
   "id": "efada9e6",
   "metadata": {
    "hidden": true
   },
   "source": [
    "__Гребнева регресія__ — це техніка регулярізації, яка використовується в машинному навчанні для запобігання перенавчанню лінійних регресійних моделей за рахунок додавання штрафу до функції втрат регресійної моделі, яка зменшує величину коефіцієнтів до нуля.\n",
    "\n",
    "$$\\min_w\\sum_{i=1}^n(y_i - x_i^w)^2 + \\lambda|w|_2^2$$\n",
    "\n",
    "Розмір штрафу визначається [нормою L2](https://craftappmobile.com/l1-vs-l2-regularization/) вектора коефіцієнтів, помноженою на гіперпараметр $\\large \\lambda$.\n",
    "\n",
    "\n"
   ]
  },
  {
   "cell_type": "markdown",
   "id": "779e5d1a",
   "metadata": {},
   "source": [
    "### Завдання\n",
    "\n",
    "Побудувати модель на основі `ridge-регресії` та за допомогою [GridSearchCV](https://scikit-learn.org/stable/modules/generated/sklearn.model_selection.GridSearchCV.html) знайти таке значення _L2-регулярізатора_, яке буде\n",
    "мінізувати обрані метрики якості моделі.\n",
    "Для побудови моделі скоистатися датасетом, що отримано в  __завданні 1__ лабораторної роботи\n"
   ]
  },
  {
   "cell_type": "code",
   "execution_count": null,
   "id": "ede2330d",
   "metadata": {},
   "outputs": [],
   "source": [
    "# імпортувати ridge-регресор з модуля `sklearn.linear_model`\n",
    "...\n",
    "\n",
    "# побудувати регресор\n",
    "ridge = Ridge(...)"
   ]
  },
  {
   "cell_type": "code",
   "execution_count": null,
   "id": "d716b997",
   "metadata": {},
   "outputs": [],
   "source": [
    "# імпортувати сітку пошуку `GridSearchCV` з модулю sklearn.model_selection\n",
    "...\n",
    "\n",
    "# визначити параметр равномірного пошуку 100 значень параметеру `alpha` в диапазоні 0-100000 \n",
    "grid_params = { ... }"
   ]
  },
  {
   "cell_type": "code",
   "execution_count": null,
   "id": "622b3635",
   "metadata": {
    "scrolled": true
   },
   "outputs": [],
   "source": [
    "%%time\n",
    "\n",
    "# побудувати та натренувати гребневу регресійну модель на сітці 'grid_params'\n",
    "# в якості критерія оцінки якості взяти метрику `neg_mean_absolute_percentage_error`\n",
    "\n",
    "# створюємо сітку пошуку та тренуємо на ній модель\n",
    "grid_search_model = ...\n",
    "\n",
    "grid_search_model.fit(data, price)"
   ]
  },
  {
   "cell_type": "code",
   "execution_count": null,
   "id": "a06ea03d",
   "metadata": {},
   "outputs": [],
   "source": [
    "# вивести найкращій естіматор (best_estimator_), та найкраще значення обраної метрики (best_score_)\n",
    "..."
   ]
  },
  {
   "cell_type": "markdown",
   "id": "2c6b8083",
   "metadata": {},
   "source": [
    "### Висновки\n",
    "\n",
    "_cпираючись на отримані метрики якості зробити висновок про придатність моделі, недонавчана чи перенавчана вона і т.п._"
   ]
  },
  {
   "cell_type": "markdown",
   "id": "d2792628",
   "metadata": {},
   "source": [
    "## 3. Поліноміальна регресія"
   ]
  },
  {
   "cell_type": "markdown",
   "id": "075bd403",
   "metadata": {},
   "source": [
    "### Теоретичне введення"
   ]
  },
  {
   "cell_type": "markdown",
   "id": "512d140f",
   "metadata": {},
   "source": [
    "__Поліноміальна регресія__ — це тип нелінійної регресії, у якому зв’язок між незалежною змінною $\\large x$ і залежною змінною $\\large y$ моделюється як поліноміальна функція n-го ступеня:\n",
    "\n",
    "$$ y = \\beta_0 + \\beta_1 x + \\beta_2 x^2 + \\beta_3 x^3 + \\cdots + \\beta_n x^n + \\varepsilon $$\n",
    "\n",
    "__Метою__ поліноміальної регресії є знаходження значень коефіцієнтів $ β_i$, які найкраще відповідають даним."
   ]
  },
  {
   "cell_type": "markdown",
   "id": "f17ee202",
   "metadata": {},
   "source": [
    "### Завдання\n",
    "\n",
    "\n",
    "Порахувати показчики якості моделі на [поліноміальній регресії](https://uk.wikipedia.org/wiki/Поліноміальна_регресія) на визначених в п.1 значущих ознаках датасету, попередньо розширивши датасет за допомогою трансформера [PolynomialFeatures](https://scikit-learn.org/stable/modules/generated/sklearn.preprocessing.PolynomialFeatures.html)"
   ]
  },
  {
   "cell_type": "code",
   "execution_count": null,
   "id": "d60b613c",
   "metadata": {
    "scrolled": true
   },
   "outputs": [],
   "source": [
    "# імпортувати модуль preprocessing.PolynomialFeatures\n",
    "from sklearn.preprocessing import PolynomialFeatures\n",
    "\n",
    "# побудувати трансформер ступеня 2 для побудови додаткових ознак в датасеті\n",
    "poly = ..."
   ]
  },
  {
   "cell_type": "code",
   "execution_count": null,
   "id": "435dd363",
   "metadata": {},
   "outputs": [],
   "source": [
    "# визначити імена відібраних показчиків\n",
    "poly_features_names = poly.get_feature_names_out()"
   ]
  },
  {
   "cell_type": "code",
   "execution_count": null,
   "id": "128e08be",
   "metadata": {},
   "outputs": [],
   "source": [
    "# побудувати датасет на визначеному поліномі `poly`\n",
    "data_poly = ...\n",
    "data_poly.shape"
   ]
  },
  {
   "cell_type": "code",
   "execution_count": null,
   "id": "f1b7d2f9",
   "metadata": {},
   "outputs": [],
   "source": [
    "# отримати результати крос-валідації на множинном регресорі `lr` по параметрам 'neg_mean_absolute_percentage_error' \n",
    "# та 'r2' на 10 сплітах передбачивши розрахунок на навчальному наборі 'return_train_score'\n",
    "cv_results_poly = cross_validate(...)"
   ]
  },
  {
   "cell_type": "code",
   "execution_count": null,
   "id": "02761153",
   "metadata": {},
   "outputs": [],
   "source": [
    "# занести результати крос-валідації: помилка тесту, помилка навчання та відповідні коефіцієнти \n",
    "# детермінаційї в датафрейм `cv_results_poly`. \n",
    "cv_results_poly = ...\n",
    "\n",
    "cv_results_poly.head()"
   ]
  },
  {
   "cell_type": "code",
   "execution_count": null,
   "id": "e952830a",
   "metadata": {},
   "outputs": [],
   "source": [
    "# за допомогою крос-валідатора 'cross_val_predict' побудувати прогноз 'price_pred' \n",
    "# на лінійному регресорі на 10 сплітах\n",
    "from sklearn.model_selection import cross_val_predict\n",
    "\n",
    "price_pred = cross_val_predict(...)"
   ]
  },
  {
   "cell_type": "code",
   "execution_count": null,
   "id": "ddc4e7e8",
   "metadata": {
    "scrolled": false
   },
   "outputs": [],
   "source": [
    "# вивести порівняльну таблицю з двох колонок: ціна реальна, ціна прогнозна\n",
    "pred = pd.DataFrame({'ціна реальна': ...,\n",
    "                     'ціна прогнозна': ...})\n",
    "pred.head(5)"
   ]
  },
  {
   "cell_type": "code",
   "execution_count": null,
   "id": "b6da2c2a",
   "metadata": {},
   "outputs": [],
   "source": [
    "# натренувати регресор `lr` на поліноміальних ознаках `data_poly`\n",
    "..."
   ]
  },
  {
   "cell_type": "code",
   "execution_count": null,
   "id": "a9e3c1b8",
   "metadata": {},
   "outputs": [],
   "source": [
    "# сформувати таблицю коєфіцієнтів поліному\n",
    "coef = pd.DataFrame({'Ознаки': poly_features_names,\n",
    "                     'коеф.регресора': lr.coef_.astype('int')})"
   ]
  },
  {
   "cell_type": "markdown",
   "id": "815a5d54",
   "metadata": {},
   "source": [
    "### Висновки\n",
    "\n",
    "_Базуючись на значенях метрик абсолютної помилки та r2-оцінки, сформулювати вашу думку чи відповідає поліноміальна модель вимогам якості та дати характеристику декільком коефіцієнтам (3-4) на свій вибір._ \n",
    "\n",
    "..."
   ]
  },
  {
   "cell_type": "markdown",
   "id": "29f6d1f5",
   "metadata": {},
   "source": [
    "## 5. Зберігання побудованх моделей"
   ]
  },
  {
   "cell_type": "code",
   "execution_count": 1,
   "id": "6bbe7ad0",
   "metadata": {},
   "outputs": [
    {
     "data": {
      "text/plain": [
       "Ellipsis"
      ]
     },
     "execution_count": 1,
     "metadata": {},
     "output_type": "execute_result"
    }
   ],
   "source": [
    "# зберегти лінийну, гребневу та поліноміальну моделі у відпрвідних pickle-файлах:\n",
    "# 'lin_model.pkl', 'ridge_model.pkl', 'poly_model.pkl'\n",
    "..."
   ]
  }
 ],
 "metadata": {
  "kernelspec": {
   "display_name": "Python 3 (ipykernel)",
   "language": "python",
   "name": "python3"
  },
  "language_info": {
   "codemirror_mode": {
    "name": "ipython",
    "version": 3
   },
   "file_extension": ".py",
   "mimetype": "text/x-python",
   "name": "python",
   "nbconvert_exporter": "python",
   "pygments_lexer": "ipython3",
   "version": "3.9.16"
  },
  "varInspector": {
   "cols": {
    "lenName": 16,
    "lenType": 16,
    "lenVar": 40
   },
   "kernels_config": {
    "python": {
     "delete_cmd_postfix": "",
     "delete_cmd_prefix": "del ",
     "library": "var_list.py",
     "varRefreshCmd": "print(var_dic_list())"
    },
    "r": {
     "delete_cmd_postfix": ") ",
     "delete_cmd_prefix": "rm(",
     "library": "var_list.r",
     "varRefreshCmd": "cat(var_dic_list()) "
    }
   },
   "types_to_exclude": [
    "module",
    "function",
    "builtin_function_or_method",
    "instance",
    "_Feature"
   ],
   "window_display": false
  }
 },
 "nbformat": 4,
 "nbformat_minor": 5
}
